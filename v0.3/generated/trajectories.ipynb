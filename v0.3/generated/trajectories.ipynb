{
 "cells": [
  {
   "cell_type": "markdown",
   "source": [
    "# Working with trajectories"
   ],
   "metadata": {}
  },
  {
   "cell_type": "markdown",
   "source": [
    "In the following, we demonstrate how to use coherent structure detection methods\n",
    "that work directly on trajectory data sets. These include the graph\n",
    "Laplace-based and the transfer operator-based methods for approximating the\n",
    "dynamic Laplacian. For simplicity, we will demonstrate the methods based on\n",
    "trajectories obtained from integrating the Bickley jet velocity field."
   ],
   "metadata": {}
  },
  {
   "cell_type": "markdown",
   "source": [
    "## Graph Laplace-based methods"
   ],
   "metadata": {}
  },
  {
   "cell_type": "markdown",
   "source": [
    "In the following, we demonstrate how to apply several graph Laplace-based coherent\n",
    "structure detection methods. For references and technical details, we refer to\n",
    "the corresponding Graph Laplacian/diffusion maps-based LCS methods page."
   ],
   "metadata": {}
  },
  {
   "cell_type": "markdown",
   "source": [
    "As an example, this is how we can add more processes to run code in parallel."
   ],
   "metadata": {}
  },
  {
   "outputs": [],
   "cell_type": "code",
   "source": [
    "using Distributed\n",
    "(nprocs() == 1) && addprocs()"
   ],
   "metadata": {},
   "execution_count": null
  },
  {
   "cell_type": "markdown",
   "source": [
    "We first load our package, some dependencies, and define the vector field."
   ],
   "metadata": {}
  },
  {
   "outputs": [],
   "cell_type": "code",
   "source": [
    "@everywhere using CoherentStructures, StreamMacros\n",
    "using Distances, Plots\n",
    "@everywhere bickleyJet = @velo_from_stream psi begin\n",
    "    psi  = psi₀ + psi₁\n",
    "    psi₀ = - U₀ * L₀ * tanh(y / L₀)\n",
    "    psi₁ =   U₀ * L₀ * sech(y / L₀)^2 * re_sum_term\n",
    "\n",
    "    re_sum_term = Σ₁ + Σ₂ + Σ₃\n",
    "\n",
    "    Σ₁ = ε₁ * cos(k₁*(x - c₁*t))\n",
    "    Σ₂ = ε₂ * cos(k₂*(x - c₂*t))\n",
    "    Σ₃ = ε₃ * cos(k₃*(x - c₃*t))\n",
    "\n",
    "    k₁ = 2/r₀    ; k₂ = 4/r₀   ; k₃ = 6/r₀\n",
    "    ε₁ = 0.0075  ; ε₂ = 0.15   ; ε₃ = 0.3\n",
    "    c₂ = 0.205U₀ ; c₃ = 0.461U₀; c₁ = c₃ + (√5-1)*(c₂-c₃)\n",
    "    U₀ = 62.66e-6; L₀ = 1770e-3; r₀ = 6371e-3\n",
    "end"
   ],
   "metadata": {},
   "execution_count": null
  },
  {
   "cell_type": "markdown",
   "source": [
    "Next, we define the usual flow parameters. For visualization convenience,\n",
    "we use a regular grid at initial time."
   ],
   "metadata": {}
  },
  {
   "outputs": [],
   "cell_type": "code",
   "source": [
    "tspan = range(10*24*3600.0, stop=30*24*3600.0, length=41)\n",
    "m = 120; n = 41; N = m*n\n",
    "x = range(0.0, stop=20.0, length=m)\n",
    "y = range(-3.0, stop=3.0, length=n)\n",
    "f = u -> flow(bickleyJet, u, tspan, tolerance=1e-4)\n",
    "particles = vec(tuple.(x, y'))\n",
    "trajectories = pmap(f, particles; batch_size=m)"
   ],
   "metadata": {},
   "execution_count": null
  },
  {
   "cell_type": "markdown",
   "source": [
    "The flow is defined on a cylinder with the following periods in x and y. The\n",
    "variable `metric` defines the (spatial) distance metric."
   ],
   "metadata": {}
  },
  {
   "outputs": [],
   "cell_type": "code",
   "source": [
    "periods = [6.371π, Inf]\n",
    "metric = PeriodicEuclidean(periods)"
   ],
   "metadata": {},
   "execution_count": null
  },
  {
   "cell_type": "markdown",
   "source": [
    "We would like calculate 6 diffusion coordinates for each example."
   ],
   "metadata": {}
  },
  {
   "outputs": [],
   "cell_type": "code",
   "source": [
    "n_coords = 6"
   ],
   "metadata": {},
   "execution_count": null
  },
  {
   "cell_type": "markdown",
   "source": [
    "We now illustrate some of the different graph Laplace-based methods, and simply\n",
    "visualize some eigenvectors, mostly without further postprocessing."
   ],
   "metadata": {}
  },
  {
   "cell_type": "markdown",
   "source": [
    "### Spectral-clustering approach/L_1 time averaging [Hadjighasem, Karrasch, Teramoto & Haller, 2016]"
   ],
   "metadata": {}
  },
  {
   "outputs": [],
   "cell_type": "code",
   "source": [
    "ε = 3e-1\n",
    "kernel = gaussian(ε)\n",
    "P = sparse_diff_op(trajectories, Neighborhood(gaussiancutoff(ε/5)), kernel; metric=STmetric(metric, 1))\n",
    "λ, Ψ = diffusion_coordinates(P, n_coords)"
   ],
   "metadata": {},
   "execution_count": null
  },
  {
   "cell_type": "markdown",
   "source": [
    "We plot the second and third eigenvectors."
   ],
   "metadata": {}
  },
  {
   "outputs": [],
   "cell_type": "code",
   "source": [
    "field = permutedims(reshape(Ψ[:, 2], m, n))\n",
    "fig = Plots.heatmap(x, y, field, aspect_ratio=1, color=:viridis)\n",
    "Plots.plot(fig)\n",
    "\n",
    "field = permutedims(reshape(Ψ[:, 3], m, n))\n",
    "fig = Plots.heatmap(x, y, field, aspect_ratio=1, color=:viridis)\n",
    "Plots.plot(fig)"
   ],
   "metadata": {},
   "execution_count": null
  },
  {
   "cell_type": "markdown",
   "source": [
    "Another sparsification option is k-nearest neighbors. The following is a\n",
    "demonstration for 400 nearest, non-mutual neighbors. For the mutual nearest neighbors\n",
    "sparsification, choose `MutualKNN()`."
   ],
   "metadata": {}
  },
  {
   "outputs": [],
   "cell_type": "code",
   "source": [
    "P = sparse_diff_op(trajectories, KNN(400), gaussian(10); metric=STmetric(metric, Inf))\n",
    "λ, Ψ = diffusion_coordinates(P, n_coords)\n",
    "\n",
    "field = permutedims(reshape(Ψ[:, 2], m, n))\n",
    "fig = Plots.heatmap(x, y, field, aspect_ratio=1, color=:viridis)\n",
    "Plots.plot(fig)\n",
    "\n",
    "field = permutedims(reshape(Ψ[:, 3], m, n))\n",
    "fig = Plots.heatmap(x, y, field, aspect_ratio=1, color=:viridis)\n",
    "Plots.plot(fig)"
   ],
   "metadata": {},
   "execution_count": null
  },
  {
   "cell_type": "markdown",
   "source": [
    "### Use of SEBA to extract features"
   ],
   "metadata": {}
  },
  {
   "cell_type": "markdown",
   "source": [
    "For feature extraction from operator eigenvectors, one may use the \"SEBA\"\n",
    "method developed by [Froyland, Rock & Sakellariou, 2019]."
   ],
   "metadata": {}
  },
  {
   "outputs": [],
   "cell_type": "code",
   "source": [
    "Ψ2 = SEBA(Ψ)"
   ],
   "metadata": {},
   "execution_count": null
  },
  {
   "cell_type": "markdown",
   "source": [
    "We plot two of the SEBA features extracted."
   ],
   "metadata": {}
  },
  {
   "outputs": [],
   "cell_type": "code",
   "source": [
    "field = permutedims(reshape(Ψ2[:, 1], m, n))\n",
    "fig = Plots.heatmap(x, y, field, aspect_ratio=1, color=:viridis)\n",
    "Plots.plot(fig)\n",
    "\n",
    "field = permutedims(reshape(Ψ2[:, 2], m, n))\n",
    "fig = Plots.heatmap(x, y, field, aspect_ratio=1, color=:viridis)\n",
    "Plots.plot(fig)"
   ],
   "metadata": {},
   "execution_count": null
  },
  {
   "cell_type": "markdown",
   "source": [
    "### Space-time diffusion maps [Banisch & Koltai, 2017]"
   ],
   "metadata": {}
  },
  {
   "outputs": [],
   "cell_type": "code",
   "source": [
    "import Statistics: mean\n",
    "σ = 1e-3\n",
    "kernel = gaussian(σ)\n",
    "P = sparse_diff_op_family(trajectories, Neighborhood(gaussiancutoff(σ)), kernel, mean; metric=metric)\n",
    "λ, Ψ = diffusion_coordinates(P, n_coords)\n",
    "\n",
    "field = permutedims(reshape(Ψ[:, 2], m, n))\n",
    "fig = Plots.heatmap(x, y, field, aspect_ratio=1, color=:viridis)\n",
    "Plots.plot(fig)\n",
    "\n",
    "field = permutedims(reshape(Ψ[:, 3], m, n))\n",
    "fig = Plots.heatmap(x, y, field, aspect_ratio=1, color=:viridis)\n",
    "Plots.plot(fig)"
   ],
   "metadata": {},
   "execution_count": null
  },
  {
   "cell_type": "markdown",
   "source": [
    "### Network-based approach [Padberg-Gehle & Schneide, 2017]"
   ],
   "metadata": {}
  },
  {
   "outputs": [],
   "cell_type": "code",
   "source": [
    "ε = 0.2\n",
    "P = sparse_diff_op_family(trajectories, Neighborhood(ε), Base.one, P -> row_normalize!(min.(sum(P), 1));\n",
    "                            α=0, metric=metric)\n",
    "λ, Ψ = diffusion_coordinates(P, n_coords)\n",
    "\n",
    "field = permutedims(reshape(Ψ[:, 2], m, n))\n",
    "fig = Plots.heatmap(x, y, field, aspect_ratio=1, color=:viridis)\n",
    "Plots.plot(fig)\n",
    "\n",
    "field = permutedims(reshape(Ψ[:, 3], m, n))\n",
    "fig = Plots.heatmap(x, y, field, aspect_ratio=1, color=:viridis)\n",
    "Plots.plot(fig)"
   ],
   "metadata": {},
   "execution_count": null
  },
  {
   "cell_type": "markdown",
   "source": [
    "### Time coupled diffusion coordinates [Marshall & Hirn, 2018]"
   ],
   "metadata": {}
  },
  {
   "outputs": [],
   "cell_type": "code",
   "source": [
    "σ = 1e-3\n",
    "kernel = gaussian(σ)\n",
    "P = sparse_diff_op_family(trajectories, Neighborhood(gaussiancutoff(σ)), kernel; metric=metric)\n",
    "λ, Ψ = diffusion_coordinates(P, n_coords)\n",
    "\n",
    "field = permutedims(reshape(Ψ[:, 2], m, n))\n",
    "fig = Plots.heatmap(x, y, field, aspect_ratio=1, color=:viridis)\n",
    "Plots.plot(fig)\n",
    "\n",
    "field = permutedims(reshape(Ψ[:, 3], m, n))\n",
    "fig = Plots.heatmap(x, y, field, aspect_ratio=1, color=:viridis)\n",
    "Plots.plot(fig)"
   ],
   "metadata": {},
   "execution_count": null
  },
  {
   "cell_type": "markdown",
   "source": [
    "## FEM adaptive TO method"
   ],
   "metadata": {}
  },
  {
   "cell_type": "markdown",
   "source": [
    "We first generate some trajectories on a set of `n` random points for the\n",
    "rotating double gyre flow."
   ],
   "metadata": {}
  },
  {
   "outputs": [],
   "cell_type": "code",
   "source": [
    "using StreamMacros\n",
    "rot_double_gyre = @velo_from_stream Ψ_rot_dgyre begin\n",
    "    st          = heaviside(t)*heaviside(1-t)*t^2*(3-2*t) + heaviside(t-1)\n",
    "    heaviside(x)= 0.5*(sign(x) + 1)\n",
    "    Ψ_P         = sin(2π*x)*sin(π*y)\n",
    "    Ψ_F         = sin(π*x)*sin(2π*y)\n",
    "    Ψ_rot_dgyre = (1-st) * Ψ_P + st * Ψ_F\n",
    "end\n",
    "using CoherentStructures\n",
    "\n",
    "n = 500\n",
    "tspan = range(0, stop=1.0, length=20)\n",
    "xs, ys = rand(n), rand(n)\n",
    "particles = tuple.(xs, ys)\n",
    "trajectories = [flow(rot_double_gyre, p, tspan) for p in particles]"
   ],
   "metadata": {},
   "execution_count": null
  },
  {
   "cell_type": "markdown",
   "source": [
    "Based on the initial particle positions we generate a triangulation.\n",
    "If this call fails or does not return, the initial positions may not be unique.\n",
    "In that case, simply generate a different set of random initial positions."
   ],
   "metadata": {}
  },
  {
   "outputs": [],
   "cell_type": "code",
   "source": [
    "ctx, _ = irregularDelaunayGrid(particles)"
   ],
   "metadata": {},
   "execution_count": null
  },
  {
   "cell_type": "markdown",
   "source": [
    "Next, we generate the stiffness and mass matrices and solve the generalized eigenproblem."
   ],
   "metadata": {}
  },
  {
   "outputs": [],
   "cell_type": "code",
   "source": [
    "S = adaptiveTOCollocationStiffnessMatrix(ctx, (i, ts) -> trajectories[i], tspan; flow_map_mode=1)\n",
    "M = assembleMassMatrix(ctx)\n",
    "\n",
    "using Arpack\n",
    "λ, V = eigs(S, M; which=:SM, nev=6)"
   ],
   "metadata": {},
   "execution_count": null
  },
  {
   "cell_type": "markdown",
   "source": [
    "We can plot the computed spectrum."
   ],
   "metadata": {}
  },
  {
   "outputs": [],
   "cell_type": "code",
   "source": [
    "using Plots\n",
    "fig = plot_real_spectrum(λ, label=\"\")\n",
    "Plots.plot(fig)"
   ],
   "metadata": {},
   "execution_count": null
  },
  {
   "cell_type": "markdown",
   "source": [
    "We may extract coherent vortices with k-means clustering."
   ],
   "metadata": {}
  },
  {
   "outputs": [],
   "cell_type": "code",
   "source": [
    "using Clustering\n",
    "function iterated_kmeans(iterations, args...)\n",
    "    best = kmeans(args...)\n",
    "    for i in 1:(iterations - 1)\n",
    "        cur = kmeans(args...)\n",
    "        if cur.totalcost < best.totalcost\n",
    "            best = cur\n",
    "        end\n",
    "    end\n",
    "    return best.assignments\n",
    "end\n",
    "\n",
    "partitions = 3\n",
    "clusters = iterated_kmeans(20, permutedims(V[:, 2:partitions]), partitions)"
   ],
   "metadata": {},
   "execution_count": null
  },
  {
   "cell_type": "markdown",
   "source": [
    "A simple scatter plot visualization looks as follows."
   ],
   "metadata": {}
  },
  {
   "outputs": [],
   "cell_type": "code",
   "source": [
    "fig = scatter(xs, ys, zcolor=clusters[ctx.node_to_dof], markersize=8, labels=\"\")\n",
    "Plots.plot(fig)"
   ],
   "metadata": {},
   "execution_count": null
  },
  {
   "cell_type": "markdown",
   "source": [
    "Alternatively, we may also plot the cluster assignments on the whole irregular\n",
    "grid."
   ],
   "metadata": {}
  },
  {
   "outputs": [],
   "cell_type": "code",
   "source": [
    "fig = plot_u(ctx, float(clusters), 400, 400;\n",
    "                color=:viridis,\n",
    "                colorbar=:none,\n",
    "                title=\"$partitions-partition of rotating double gyre\")\n",
    "Plots.plot(fig)"
   ],
   "metadata": {},
   "execution_count": null
  },
  {
   "cell_type": "markdown",
   "source": [
    "---\n",
    "\n",
    "*This notebook was generated using [Literate.jl](https://github.com/fredrikekre/Literate.jl).*"
   ],
   "metadata": {}
  }
 ],
 "nbformat_minor": 3,
 "metadata": {
  "language_info": {
   "file_extension": ".jl",
   "mimetype": "application/julia",
   "name": "julia",
   "version": "1.4.2"
  },
  "kernelspec": {
   "name": "julia-1.4",
   "display_name": "Julia 1.4.2",
   "language": "julia"
  }
 },
 "nbformat": 4
}
