{
 "cells": [
  {
   "cell_type": "markdown",
   "source": [
    "# The standard map\n",
    "\n",
    "The standard map\n",
    "$$\n",
    "f(x,y) = (x+y+a\\sin(x),y+a\\sin(x))\n",
    "$$\n",
    "is an area-preserving map on the 2-torus $[0,2\\pi]^2$ resulting from a symplectic\n",
    "time-discretization of the planar pendulum.  For $a = 0.971635$, its phase space\n",
    "shows the characteristic mixture of regular (periodic or quasi-periodic) and\n",
    "chaotic motion.  Here, we repeat the experiment in\n",
    "[Froyland & Junge (2015)](https://arxiv.org/abs/1505.05056) and compute coherent structures.\n",
    "\n",
    "We first visualize the phase space by plotting 500 iterates of 50 random seed points."
   ],
   "metadata": {}
  },
  {
   "outputs": [],
   "cell_type": "code",
   "source": [
    "using Random\n",
    "\n",
    "const a = 0.971635\n",
    "f(x) = (rem2pi(x[1] + x[2] + a*sin(x[1]), RoundDown),\n",
    "          rem2pi(x[2] + a*sin(x[1]), RoundDown))\n",
    "\n",
    "X = Tuple{Float64,Float64}[]\n",
    "for i in 1:50\n",
    "    Random.seed!(i)\n",
    "    x = 2π .* (rand(), rand())\n",
    "    for i in 1:500\n",
    "        x = f(x)\n",
    "        push!(X,x)\n",
    "    end\n",
    "end\n",
    "\n",
    "using Plots\n",
    "gr(aspect_ratio=1, legend=:none)\n",
    "fig = scatter(X, markersize=1)\n",
    "Plots.plot(fig)"
   ],
   "metadata": {},
   "execution_count": null
  },
  {
   "cell_type": "markdown",
   "source": [
    "Approximating the Dynamic Laplacian by FEM methods is straightforward:"
   ],
   "metadata": {}
  },
  {
   "outputs": [],
   "cell_type": "code",
   "source": [
    "using Arpack, CoherentStructures, Distances, Tensors\n",
    "\n",
    "Df(x) = Tensor{2,2}((1.0+a*cos(x[1]), a*cos(x[1]), 1.0, 1.0))\n",
    "\n",
    "n, ll, ur = 100, (0.0, 0.0), (2π, 2π)       # grid size, domain corners\n",
    "ctx, _ = regularTriangularGrid((n, n), ll, ur)\n",
    "pred(x,y) = peuclidean(x, y, [2π, 2π]) < 1e-9\n",
    "bd = BoundaryData(ctx, pred)                # periodic boundary\n",
    "\n",
    "I = one(Tensor{2,2})                        # identity matrix\n",
    "Df2(x) = Df(f(x))⋅Df(x)                     # consider 2. iterate\n",
    "cg(x) = 0.5*(I + dott(inv(Df2(x))))         # avg. inv. Cauchy-Green tensor\n",
    "\n",
    "K = assembleStiffnessMatrix(ctx, cg, bdata=bd)\n",
    "M = assembleMassMatrix(ctx, bdata=bd)\n",
    "λ, v = real.(eigs(K, M; which=:SM))\n",
    "\n",
    "using Printf\n",
    "title = [ @sprintf(\"\\\\lambda = %.3f\", λ[i]) for i = 1:4 ]\n",
    "p = [ plot_u(ctx, v[:,i], bdata=bd, title=title[i],\n",
    "             clim=(-0.25, 0.25), cb=false) for i in 1:4 ]\n",
    "fig = plot(p...)\n",
    "Plots.plot(fig)"
   ],
   "metadata": {},
   "execution_count": null
  },
  {
   "cell_type": "markdown",
   "source": [
    "---\n",
    "\n",
    "*This notebook was generated using [Literate.jl](https://github.com/fredrikekre/Literate.jl).*"
   ],
   "metadata": {}
  }
 ],
 "nbformat_minor": 3,
 "metadata": {
  "language_info": {
   "file_extension": ".jl",
   "mimetype": "application/julia",
   "name": "julia",
   "version": "1.5.3"
  },
  "kernelspec": {
   "name": "julia-1.5",
   "display_name": "Julia 1.5.3",
   "language": "julia"
  }
 },
 "nbformat": 4
}
