{
 "cells": [
  {
   "cell_type": "markdown",
   "source": [
    "# Material diffusion barriers\n",
    "\n",
    "The following script reproduces partially the simulations performed in the\n",
    "paper [Material barriers to diffusive and stochastic transport](https://doi.org/10.1073/pnas.1720177115),\n",
    "jointly written by George Haller, Daniel Karrasch and Florian Kogelbauer, which\n",
    "appeared in [PNAS](https://www.pnas.org).\n",
    "\n",
    "### Bickley-jet flow\n",
    "\n",
    "The Bickley jet flow is a kinematic idealized model of a meandering zonal jet\n",
    "flanked above and below by counterrotating vortices. It was introduced by\n",
    "[Rypina et al.](https://doi.org/10.1175/JAS4036.1); cf. also [del‐Castillo‐Negrete and Morrison](https://doi.org/10.1063/1.858639).\n",
    "\n",
    "The Bickley jet is described by a time-dependent velocity field arising from a\n",
    "stream-function. The corresponding velocity field can be constructed by means\n",
    "of the [`StreamMacros.jl`](https://github.com/CoherentStructures/StreamMacros.jl) package."
   ],
   "metadata": {}
  },
  {
   "outputs": [],
   "cell_type": "code",
   "source": [
    "import Pkg\n",
    "Pkg.add(Pkg.PackageSpec(url=\"https://github.com/KristofferC/JuAFEM.jl.git\"))\n",
    "Pkg.add(Pkg.PackageSpec(url=\"https://github.com/CoherentStructures/CoherentStructures.jl.git\"))\n",
    "Pkg.add(Pkg.PackageSpec(url=\"https://github.com/CoherentStructures/StreamMacros.jl\"))\n",
    "Pkg.add([\"OrdinaryDiffEq\", \"Tensors\", \"AxisArrays\", \"JLD2\", \"Plots\"])"
   ],
   "metadata": {},
   "execution_count": null
  },
  {
   "cell_type": "markdown",
   "source": [
    "Next, we turn on parallel computing, load the relevant packages on all available\n",
    "workers and define the velocity field."
   ],
   "metadata": {}
  },
  {
   "outputs": [],
   "cell_type": "code",
   "source": [
    "using Distributed\n",
    "nprocs() == 1 && addprocs()\n",
    "\n",
    "@everywhere using CoherentStructures, StreamMacros\n",
    "@everywhere bickley = @velo_from_stream psi begin\n",
    "    psi  = psi₀ + psi₁\n",
    "    psi₀ = - U₀ * L₀ * tanh(y / L₀)\n",
    "    psi₁ =   U₀ * L₀ * sech(y / L₀)^2 * re_sum_term\n",
    "\n",
    "    re_sum_term = Σ₁ + Σ₂ + Σ₃\n",
    "\n",
    "    Σ₁ = ε₁ * cos(k₁*(x - c₁*t))\n",
    "    Σ₂ = ε₂ * cos(k₂*(x - c₂*t))\n",
    "    Σ₃ = ε₃ * cos(k₃*(x - c₃*t))\n",
    "\n",
    "    k₁ = 2/r₀    ; k₂ = 4/r₀   ; k₃ = 6/r₀\n",
    "    ε₁ = 0.0075  ; ε₂ = 0.15   ; ε₃ = 0.3\n",
    "    c₂ = 0.205U₀ ; c₃ = 0.461U₀; c₁ = c₃ + (√5-1)*(c₂-c₃)\n",
    "    U₀ = 62.66e-6; L₀ = 1770e-3; r₀ = 6371e-3\n",
    "end"
   ],
   "metadata": {},
   "execution_count": null
  },
  {
   "cell_type": "markdown",
   "source": [
    "Now, set up the computational domain and problem-dependent parameters."
   ],
   "metadata": {}
  },
  {
   "outputs": [],
   "cell_type": "code",
   "source": [
    "using AxisArrays\n",
    "@everywhere using OrdinaryDiffEq, Tensors\n",
    "\n",
    "q = 81\n",
    "tspan = range(0., stop=3456000., length=q)\n",
    "ny = 61\n",
    "nx = (22ny) ÷ 6\n",
    "xmin, xmax, ymin, ymax = 0.0 - 2.0, 6.371π + 2.0, -3.0, 3.0\n",
    "xspan = range(xmin, stop=xmax, length=nx)\n",
    "yspan = range(ymin, stop=ymax, length=ny)\n",
    "P = AxisArray(tuple.(xspan, yspan'), xspan, yspan)\n",
    "δ = 1.e-6"
   ],
   "metadata": {},
   "execution_count": null
  },
  {
   "cell_type": "markdown",
   "source": [
    "In our work, we used an anisotropic diffusion tensor."
   ],
   "metadata": {}
  },
  {
   "outputs": [],
   "cell_type": "code",
   "source": [
    "D = SymmetricTensor{2,2}([2., 0., 1/2])"
   ],
   "metadata": {},
   "execution_count": null
  },
  {
   "cell_type": "markdown",
   "source": [
    "Now, we compute the diffusion-weighted averaged Cauchy-Green tensor, set a\n",
    "parameter (and others by default) for the geodesic vortex computation, and\n",
    "finally compute vortices."
   ],
   "metadata": {}
  },
  {
   "outputs": [],
   "cell_type": "code",
   "source": [
    "mCG_tensor = let tspan=tspan, δ=δ, D=D\n",
    "    u -> av_weighted_CG_tensor(bickley, u, tspan, δ;\n",
    "          D=D, tolerance=1e-6, solver=Tsit5())\n",
    "end\n",
    "C̅ = pmap(mCG_tensor, P; batch_size=ceil(Int, length(P)/nprocs()^2))\n",
    "p = LCSParameters(2.0)\n",
    "vortices, singularities = ellipticLCS(C̅, p)"
   ],
   "metadata": {},
   "execution_count": null
  },
  {
   "cell_type": "markdown",
   "source": [
    "The result is visualized as follows:"
   ],
   "metadata": {}
  },
  {
   "outputs": [],
   "cell_type": "code",
   "source": [
    "using Plots\n",
    "trace = tensor_invariants(C̅)[5]\n",
    "fig = plot_vortices(vortices, singularities, (xmin, ymin), (xmax, ymax);\n",
    "    bg=trace, title=\"DBS field and transport barriers\", showlabel=true)"
   ],
   "metadata": {},
   "execution_count": null
  },
  {
   "cell_type": "markdown",
   "source": [
    "For comparison, we also compute black-hole vortices."
   ],
   "metadata": {}
  },
  {
   "outputs": [],
   "cell_type": "code",
   "source": [
    "C_tensor = let tspan=tspan, δ=δ\n",
    "    u -> CG_tensor(bickley, u, tspan, δ; tolerance=1e-6, solver=Tsit5())\n",
    "end\n",
    "C = pmap(C_tensor, P; batch_size=ceil(Int, length(P)/nprocs()^2))\n",
    "p = LCSParameters(2.0)\n",
    "BHvortices, singularities = ellipticLCS(C, p)"
   ],
   "metadata": {},
   "execution_count": null
  },
  {
   "cell_type": "markdown",
   "source": [
    "Finally, we plot them on top of the material diffusion barriers in thin red lines."
   ],
   "metadata": {}
  },
  {
   "outputs": [],
   "cell_type": "code",
   "source": [
    "foreach(v -> plot_barrier!(v.barriers[1]; color=:red, width=1), BHvortices)\n",
    "fig"
   ],
   "metadata": {},
   "execution_count": null
  },
  {
   "cell_type": "markdown",
   "source": [
    "### Geostrophic ocean surface flow"
   ],
   "metadata": {}
  },
  {
   "cell_type": "markdown",
   "source": [
    "Here, we demonstrate how to detect material barriers to diffusive transport."
   ],
   "metadata": {}
  },
  {
   "outputs": [],
   "cell_type": "code",
   "source": [
    "using Distributed\n",
    "nprocs() == 1 && addprocs()\n",
    "\n",
    "@everywhere using CoherentStructures, OrdinaryDiffEq"
   ],
   "metadata": {},
   "execution_count": null
  },
  {
   "cell_type": "markdown",
   "source": [
    "Next, we load and interpolate the velocity data sets. Loading the data sets defines\n",
    "`Lon`, `Lat`, `Time`, `UT`, `VT`."
   ],
   "metadata": {}
  },
  {
   "outputs": [],
   "cell_type": "code",
   "source": [
    "using JLD2\n",
    "JLD2.@load(\"Ocean_geostrophic_velocity.jld2\")\n",
    "VI = interpolateVF(Lon, Lat, Time, UT, VT)"
   ],
   "metadata": {},
   "execution_count": null
  },
  {
   "cell_type": "markdown",
   "source": [
    "Since we want to use parallel computing, we set up the integration LCSParameters\n",
    "on all workers, i.e., `@everywhere`."
   ],
   "metadata": {}
  },
  {
   "outputs": [],
   "cell_type": "code",
   "source": [
    "using AxisArrays\n",
    "q = 91\n",
    "t_initial = minimum(Time)\n",
    "t_final = t_initial + 90\n",
    "tspan = range(t_initial, stop=t_final, length=q)\n",
    "xmin, xmax, ymin, ymax = -4.0, 7.5, -37.0, -28.0\n",
    "nx = 300\n",
    "ny = floor(Int, (ymax - ymin) / (xmax - xmin) * nx)\n",
    "xspan = range(xmin, stop=xmax, length=nx)\n",
    "yspan = range(ymin, stop=ymax, length=ny)\n",
    "P = AxisArray(tuple.(xspan, yspan'), xspan, yspan)\n",
    "δ = 1.e-5\n",
    "mCG_tensor = let tspan=tspan, δ=δ, p=VI\n",
    "    u -> av_weighted_CG_tensor(interp_rhs, u, tspan, δ;\n",
    "        p=p, tolerance=1e-6, solver=Tsit5())\n",
    "end"
   ],
   "metadata": {},
   "execution_count": null
  },
  {
   "cell_type": "markdown",
   "source": [
    "Now, compute the averaged weighted Cauchy-Green tensor field and extract elliptic LCSs."
   ],
   "metadata": {}
  },
  {
   "outputs": [],
   "cell_type": "code",
   "source": [
    "C̅ = pmap(mCG_tensor, P; batch_size=ceil(Int, length(P)/nprocs()^2))\n",
    "p = LCSParameters(2.5)\n",
    "vortices, singularities = ellipticLCS(C̅, p)"
   ],
   "metadata": {},
   "execution_count": null
  },
  {
   "cell_type": "markdown",
   "source": [
    "Finally, the result is visualized as follows."
   ],
   "metadata": {}
  },
  {
   "outputs": [],
   "cell_type": "code",
   "source": [
    "using Plots\n",
    "trace = tensor_invariants(C̅)[5]\n",
    "fig = plot_vortices(vortices, singularities, (xmin, ymin), (xmax, ymax);\n",
    "    bg=trace, title=\"DBS field and transport barriers\", showlabel=true)"
   ],
   "metadata": {},
   "execution_count": null
  },
  {
   "cell_type": "markdown",
   "source": [
    "---\n",
    "\n",
    "*This notebook was generated using [Literate.jl](https://github.com/fredrikekre/Literate.jl).*"
   ],
   "metadata": {}
  }
 ],
 "nbformat_minor": 3,
 "metadata": {
  "language_info": {
   "file_extension": ".jl",
   "mimetype": "application/julia",
   "name": "julia",
   "version": "1.5.1"
  },
  "kernelspec": {
   "name": "julia-1.5",
   "display_name": "Julia 1.5.1",
   "language": "julia"
  }
 },
 "nbformat": 4
}
