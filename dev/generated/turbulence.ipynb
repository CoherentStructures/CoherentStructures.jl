{
 "cells": [
  {
   "cell_type": "markdown",
   "source": [
    "# Material diffusion barriers in a turbulent flow\n",
    "\n",
    "The following script reproduces partially the two-dimensional turbulence\n",
    "simulation performed in the paper\n",
    "[Fast and robust computation of coherent Lagrangian vortices on very large two-dimensional domains](https://doi.org/10.5802/smai-jcm.63),\n",
    "jointly written by Daniel Karrasch and Nathanael Schilling, which appeared in\n",
    "[SMAI Journal of Computational Mathematics](https://smai-jcm.centre-mersenne.org).\n",
    "\n",
    "As usual, we rely on several, open-source Julia packages. The following\n",
    "commands show how to install specific versions such that this script works out\n",
    "of the box. Users are encouraged, however, to test up-to-date versions, i.e.,\n",
    "without pinning the specific versions. Installing (and pinning) these packages\n",
    "is required only the first time this script is run."
   ],
   "metadata": {}
  },
  {
   "outputs": [],
   "cell_type": "code",
   "source": [
    "import Pkg\n",
    "Pkg.add(\"FourierFlows\")\n",
    "Pkg.add(\"GeophysicalFlows\")\n",
    "Pkg.add(\"Plots\")\n",
    "Pkg.add(Pkg.PackageSpec(url=\"https://github.com/CoherentStructures/CoherentStructures.jl.git\"))\n",
    "Pkg.add(Pkg.PackageSpec(url=\"https://github.com/CoherentStructures/OceanTools.jl.git\"))\n",
    "Pkg.pin(Pkg.PackageSpec(name=\"FourierFlows\", version=\"0.4.5\"))\n",
    "Pkg.pin(Pkg.PackageSpec(name=\"GeophysicalFlows\", version=\"0.5.1\"))"
   ],
   "metadata": {},
   "execution_count": null
  },
  {
   "cell_type": "markdown",
   "source": [
    "### Generating a turbulent velocity field\n",
    "\n",
    "We begin by loading required packages and by setting up a computational domain."
   ],
   "metadata": {}
  },
  {
   "outputs": [],
   "cell_type": "code",
   "source": [
    "using FourierFlows, GeophysicalFlows, GeophysicalFlows.TwoDNavierStokes, Plots, Random\n",
    "Random.seed!(1234)\n",
    "mygrid = TwoDGrid(256, 2π)\n",
    "x, y = gridpoints(mygrid)\n",
    "xs = ys = range(-π, stop=π, length=257)[1:end-1];"
   ],
   "metadata": {},
   "execution_count": null
  },
  {
   "cell_type": "markdown",
   "source": [
    "To avoid decay of the flow we employ stochastic forcing. The code below is\n",
    "modified from an example given in the\n",
    "[GeophysicalFlows.jl](https://github.com/FourierFlows/GeophysicalFlows.jl)\n",
    "documentation."
   ],
   "metadata": {}
  },
  {
   "outputs": [],
   "cell_type": "code",
   "source": [
    "ε = 0.001 # Energy injection rate\n",
    "kf, dkf = 6, 2.0 # Waveband where to inject energy\n",
    "Kr = [mygrid.kr[i] for i=1:mygrid.nkr, j=1:mygrid.nl]\n",
    "force2k = @. exp(-(sqrt(mygrid.Krsq) - kf)^2 / (2 * dkf^2))\n",
    "force2k[(mygrid.Krsq .< 2.0^2) .| (mygrid.Krsq .> 20.0^2) .| (Kr .< 1) ] .= 0\n",
    "ε0 = FourierFlows.parsevalsum(force2k .* mygrid.invKrsq/2.0,\n",
    "                                mygrid) / (mygrid.Lx*mygrid.Ly)\n",
    "force2k .= ε/ε0 * force2k\n",
    "function calcF!(Fh, sol, t, cl, args...)\n",
    "    eta = exp.(2π * im * rand(Float64, size(sol))) / sqrt(cl.dt)\n",
    "    eta[1,1] = 0\n",
    "    @. Fh = eta * sqrt(force2k)\n",
    "    nothing\n",
    "end"
   ],
   "metadata": {},
   "execution_count": null
  },
  {
   "cell_type": "markdown",
   "source": [
    "We now setup the remaining parameters used in the simulation. We numerically\n",
    "solve the vorticity (transport) equation\n",
    "\n",
    "$$\n",
    "\\partial_t \\zeta = - u\\cdot \\nabla \\zeta  -\\nu\\zeta + f.\n",
    "$$\n",
    "\n",
    "Here $u(x,y) = (u_1(x,y),u_2(x,y))^T$ is the (incompressible) velocity field,\n",
    "and $\\zeta = \\partial_x u_2 - \\partial_y u_1$ is its vorticity. The parameter\n",
    "$\\nu$  has the value  $10^{-2}$ and is the coefficient of the drag term, $f$\n",
    "represents the forcing."
   ],
   "metadata": {}
  },
  {
   "outputs": [],
   "cell_type": "code",
   "source": [
    "prob = TwoDNavierStokes.Problem(nx=256, Lx=2π, ν=1e-2, nν=0, dt=1e-2,\n",
    "    stepper=\"FilteredRK4\", calcF=calcF!, stochastic=true)\n",
    "TwoDNavierStokes.set_zeta!(prob, GeophysicalFlows.peakedisotropicspectrum(mygrid, 2, 0.5))\n",
    "\n",
    "#nb\n",
    "\n",
    "using Distributed\n",
    "addprocs()\n",
    "using SharedArrays"
   ],
   "metadata": {},
   "execution_count": null
  },
  {
   "cell_type": "markdown",
   "source": [
    "we use these variables to store the result"
   ],
   "metadata": {}
  },
  {
   "outputs": [],
   "cell_type": "code",
   "source": [
    "us = SharedArray{Float64}(256, 256, 400)\n",
    "vs = SharedArray{Float64}(256, 256, 400)\n",
    "zs = SharedArray{Float64}(256, 256, 400);"
   ],
   "metadata": {},
   "execution_count": null
  },
  {
   "cell_type": "markdown",
   "source": [
    "We run this simulation until $t=500$ to work in a statistically equilibrated\n",
    "state, and then save the result at time steps of size 0.2."
   ],
   "metadata": {}
  },
  {
   "outputs": [],
   "cell_type": "code",
   "source": [
    "@time stepforward!(prob, round(Int, 500 / prob.clock.dt))\n",
    "@time for i in 1:400\n",
    "    stepforward!(prob, 20); TwoDTurb.updatevars!(prob)\n",
    "    vs[:,:,i] = prob.vars.v\n",
    "    us[:,:,i] = prob.vars.u\n",
    "    zs[:,:,i] = prob.vars.zeta\n",
    "end"
   ],
   "metadata": {},
   "execution_count": null
  },
  {
   "cell_type": "markdown",
   "source": [
    "The generation of the velocity field by the above code takes on the order of\n",
    "10 minutes on a modern notebook. Below, we show the vorticity field at $t = 500$."
   ],
   "metadata": {}
  },
  {
   "outputs": [],
   "cell_type": "code",
   "source": [
    "heatmap(xs, ys, zs[:,:,1];\n",
    "    color=:viridis, aspect_ratio=1, xlim=extrema(xs), ylim=extrema(ys))"
   ],
   "metadata": {},
   "execution_count": null
  },
  {
   "cell_type": "markdown",
   "source": [
    "### Material diffusion barrier detection\n",
    "\n",
    "We first setup a periodic interpolation of the velocity field, using the\n",
    "[OceanTools.jl](https://github.com/CoherentStructures/OceanTools.jl) package."
   ],
   "metadata": {}
  },
  {
   "outputs": [],
   "cell_type": "code",
   "source": [
    "@everywhere using CoherentStructures, OceanTools\n",
    "const CS = CoherentStructures\n",
    "const OT = OceanTools\n",
    "ts = range(0.0, step=20prob.clock.dt, length=400)\n",
    "const uv = OT.ItpMetadata(xs, ys, ts, (us, vs), OT.periodic, OT.periodic, OT.flat);"
   ],
   "metadata": {},
   "execution_count": null
  },
  {
   "cell_type": "markdown",
   "source": [
    "We are now ready to compute material barriers."
   ],
   "metadata": {}
  },
  {
   "outputs": [],
   "cell_type": "code",
   "source": [
    "vortices, singularities, bg = CS.materialbarriers(\n",
    "       uv_trilinear, xs, ys, range(0.0, stop=5.0, length=11),\n",
    "       LCSParameters(boxradius=π/2, indexradius=0.1, pmax=1.4,\n",
    "                     merge_heuristics=[combine_20_aggressive]),\n",
    "       p=uv, on_torus=true);"
   ],
   "metadata": {},
   "execution_count": null
  },
  {
   "cell_type": "markdown",
   "source": [
    "The `materialbarriers` function calculates the transport tensor field\n",
    "$\\mathbf{T}$ used in the material-barriers approach (using finite differences\n",
    "for the linearized flow map $D\\Phi$) and calculates material barriers. The\n",
    "result is shown below."
   ],
   "metadata": {}
  },
  {
   "outputs": [],
   "cell_type": "code",
   "source": [
    "plot_vortices(vortices, singularities, [-π, -π], [π, π];\n",
    "    bg=bg, xspan=xs, yspan=ys, include_singularities=true, barrier_width=4, barrier_color=:red,\n",
    "    colorbar=:false, aspect_ratio=1)"
   ],
   "metadata": {},
   "execution_count": null
  },
  {
   "cell_type": "markdown",
   "source": [
    "We plot the detected vortices on top of the vorticity field."
   ],
   "metadata": {}
  },
  {
   "outputs": [],
   "cell_type": "code",
   "source": [
    "plot_vortices(vortices, singularities, [-π, -π], [π, π];\n",
    "    bg=zs[:,:,1], xspan=xs, yspan=ys, logBg=false, include_singularities=false, barrier_width=3, barrier_color=:red,\n",
    "    colorbar=:false, aspect_ratio=1)"
   ],
   "metadata": {},
   "execution_count": null
  },
  {
   "cell_type": "markdown",
   "source": [
    "Next, we advect them forwards in time."
   ],
   "metadata": {}
  },
  {
   "outputs": [],
   "cell_type": "code",
   "source": [
    "vortexflow = vortex -> flow(uv_trilinear, vortex, [0., 5.]; p=uv)[end]\n",
    "plot_vortices(vortexflow.(vortices), singularities, [-π, -π], [π, π];\n",
    "    bg=zs[:,:,26], xspan=xs, yspan=ys, logBg=false, include_singularities=false, barrier_width=3, barrier_color=:red,\n",
    "    colorbar=:false, aspect_ratio=1)"
   ],
   "metadata": {},
   "execution_count": null
  },
  {
   "cell_type": "markdown",
   "source": [
    "One of the vortices has been advected so that it is no longer in the field of\n",
    "view of the image, and the plotting function doesn't know that the domain is\n",
    "periodic."
   ],
   "metadata": {}
  },
  {
   "cell_type": "markdown",
   "source": [
    "---\n",
    "\n",
    "*This notebook was generated using [Literate.jl](https://github.com/fredrikekre/Literate.jl).*"
   ],
   "metadata": {}
  }
 ],
 "nbformat_minor": 3,
 "metadata": {
  "language_info": {
   "file_extension": ".jl",
   "mimetype": "application/julia",
   "name": "julia",
   "version": "1.6.2"
  },
  "kernelspec": {
   "name": "julia-1.6",
   "display_name": "Julia 1.6.2",
   "language": "julia"
  }
 },
 "nbformat": 4
}
