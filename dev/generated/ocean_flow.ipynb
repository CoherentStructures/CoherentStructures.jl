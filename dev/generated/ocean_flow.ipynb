{
 "cells": [
  {
   "outputs": [],
   "cell_type": "markdown",
   "source": [
    "# Geostrophic Ocean Flow\n",
    "\n",
    "For a more realistic application, we consider an unsteady ocean surface velocity\n",
    "data set obtained from satellite altimetry measurements produced by SSALTO/DUACS\n",
    "and distributed by AVISO. The particular space-time window has been used several\n",
    "times in the literature."
   ],
   "metadata": {}
  },
  {
   "outputs": [],
   "cell_type": "markdown",
   "source": [
    "## Geodesic vortices"
   ],
   "metadata": {}
  },
  {
   "outputs": [],
   "cell_type": "markdown",
   "source": [
    "Here, we demonstrate how to detect material barriers to diffusive transport."
   ],
   "metadata": {}
  },
  {
   "outputs": [],
   "cell_type": "code",
   "source": [
    "using Distributed\n",
    "import AxisArrays\n",
    "const AA = AxisArrays\n",
    "nprocs() == 1 && addprocs()\n",
    "\n",
    "@everywhere using CoherentStructures, OrdinaryDiffEq, StaticArrays"
   ],
   "metadata": {},
   "execution_count": null
  },
  {
   "outputs": [],
   "cell_type": "markdown",
   "source": [
    "Next, we load and interpolate the velocity data sets."
   ],
   "metadata": {}
  },
  {
   "outputs": [],
   "cell_type": "code",
   "source": [
    "using JLD2\n",
    "JLD2.@load(\"Ocean_geostrophic_velocity.jld2\")\n",
    "const VI = interpolateVF(Lon, Lat, Time, UT, VT)"
   ],
   "metadata": {},
   "execution_count": null
  },
  {
   "outputs": [],
   "cell_type": "markdown",
   "source": [
    "Since we want to use parallel computing, we set up the integration LCSParameters\n",
    "on all workers, i.e., `@everywhere`."
   ],
   "metadata": {}
  },
  {
   "outputs": [],
   "cell_type": "code",
   "source": [
    "@everywhere begin\n",
    "    q = 91\n",
    "    t_initial = minimum(Time)\n",
    "    t_final = t_initial + 90\n",
    "    const tspan = range(t_initial, stop=t_final, length=q)\n",
    "    nx = 300\n",
    "    ny = floor(Int, (ymax - ymin) / (xmax - xmin) * nx)\n",
    "    xmin, xmax, ymin, ymax = -4.0, 7.5, -37.0, -28.0\n",
    "    xspan = range(xmin, stop=xmax, length=nx)\n",
    "    yspan = range(ymin, stop=ymax, length=ny)\n",
    "    P = AA.AxisArray(SVector{2}.(xspan, yspan'), xspan, yspan)\n",
    "    const δ = 1.e-5\n",
    "    mCG_tensor = u -> av_weighted_CG_tensor(interp_rhs, u, tspan, δ;\n",
    "        p=VI, tolerance=1e-6, solver=Tsit5())\n",
    "end"
   ],
   "metadata": {},
   "execution_count": null
  },
  {
   "outputs": [],
   "cell_type": "markdown",
   "source": [
    "Now, compute the averaged weighted Cauchy-Green tensor field and extract elliptic LCSs."
   ],
   "metadata": {}
  },
  {
   "outputs": [],
   "cell_type": "code",
   "source": [
    "C̅ = pmap(mCG_tensor, P; batch_size=ny)\n",
    "p = LCSParameters(5*max(step(xspan), step(yspan)), 2.5, 60, 0.5, 2.0, 1e-4)\n",
    "vortices, singularities = ellipticLCS(C̅, p)"
   ],
   "metadata": {},
   "execution_count": null
  },
  {
   "outputs": [],
   "cell_type": "markdown",
   "source": [
    "Finally, the result is visualized as follows."
   ],
   "metadata": {}
  },
  {
   "outputs": [],
   "cell_type": "code",
   "source": [
    "using Plots\n",
    "λ₁, λ₂, ξ₁, ξ₂, traceT, detT = tensor_invariants(C̅)\n",
    "fig = Plots.heatmap(xspan, yspan, permutedims(log10.(traceT));\n",
    "            aspect_ratio=1, color=:viridis, leg=true,\n",
    "            title=\"DBS field and transport barriers\")\n",
    "scatter!(get_coords(singularities), color=:red)\n",
    "for vortex in vortices\n",
    "    plot!(vortex.curve, color=:yellow, w=3, label=\"T = $(round(vortex.p, digits=2))\")\n",
    "    scatter!(vortex.core, color=:yellow)\n",
    "end\n",
    "Plots.plot(fig)"
   ],
   "metadata": {},
   "execution_count": null
  },
  {
   "outputs": [],
   "cell_type": "markdown",
   "source": [
    "## FEM-based methods"
   ],
   "metadata": {}
  },
  {
   "outputs": [],
   "cell_type": "markdown",
   "source": [
    "Here we showcase how the adaptive TO method can be used to calculate coherent sets.\n",
    "\n",
    "First we setup the problem."
   ],
   "metadata": {}
  },
  {
   "outputs": [],
   "cell_type": "code",
   "source": [
    "using CoherentStructures\n",
    "import JLD2, OrdinaryDiffEq, Plots\n",
    "\n",
    "#Import and interpolate ocean dataset\n",
    "#The @load macro initializes Lon,Lat,Time,UT,VT\n",
    "JLD2.@load(\"../../examples/Ocean_geostrophic_velocity.jld2\")\n",
    "VI = interpolateVF(Lon, Lat, Time, UT, VT)\n",
    "\n",
    "#Define a flow function from it\n",
    "t_initial = minimum(Time)\n",
    "t_final = t_initial + 90\n",
    "times = [t_initial, t_final]\n",
    "flow_map = u0 -> flow(interp_rhs, u0, times;\n",
    "    p=VI, tolerance=1e-5, solver=OrdinaryDiffEq.BS5())[end]\n",
    "# Next we set up the domain. We want to use zero Dirichlet boundary conditions here.\n",
    "LL = [-4.0, -34.0]\n",
    "UR = [6.0, -28.0]\n",
    "ctx, _  = regularTriangularGrid((150, 90), LL, UR)\n",
    "bdata = getHomDBCS(ctx, \"all\");"
   ],
   "metadata": {},
   "execution_count": null
  },
  {
   "outputs": [],
   "cell_type": "markdown",
   "source": [
    "For the TO method, we seek generalized eigenpairs involving the bilinear form\n",
    "\n",
    "\\begin{equation}\n",
    "a_h(u,v) = \\frac{1}{2} \\left(a_0(u,v) + a_1(I_h u, I_h v) \\right).\n",
    "\\end{equation}\n",
    "\n",
    "Here, $a_0$ is the weak form of the Laplacian on the initial domain, and $a_1$\n",
    "is the weak form of the Laplacian on the final domain. The operator $I_h$ is an\n",
    "interpolation operator onto the space of test functions on the final domain.\n",
    "\n",
    "For the adaptive TO method, we use pointwise nodal interpolation (i.e. collocation)\n",
    "and the mesh on the final domain is obtained by doing a Delaunay triangulation\n",
    "on the images of the nodal points of the initial domain. This results in the\n",
    "representation matrix of $I_h$ being the identity, so in matrix form we get:\n",
    "\n",
    "\\begin{equation}\n",
    "S = 0.5(S_0 + S_1)\n",
    "\\end{equation}\n",
    "\n",
    "where $S_0$ is the stiffness matrix for the triangulation at initial time, and\n",
    "$S_1$ is the stiffness matrix for the triangulation at final time."
   ],
   "metadata": {}
  },
  {
   "outputs": [],
   "cell_type": "code",
   "source": [
    "M = assembleMassMatrix(ctx, bdata=bdata)\n",
    "S0 = assembleStiffnessMatrix(ctx)\n",
    "S1 = adaptiveTOCollocationStiffnessMatrix(ctx, flow_map)"
   ],
   "metadata": {},
   "execution_count": null
  },
  {
   "outputs": [],
   "cell_type": "markdown",
   "source": [
    "Averaging matrices and applying boundary conditions yields"
   ],
   "metadata": {}
  },
  {
   "outputs": [],
   "cell_type": "code",
   "source": [
    "S = applyBCS(ctx, 0.5(S0 + S1), bdata);"
   ],
   "metadata": {},
   "execution_count": null
  },
  {
   "outputs": [],
   "cell_type": "markdown",
   "source": [
    "We can now solve the eigenproblem."
   ],
   "metadata": {}
  },
  {
   "outputs": [],
   "cell_type": "code",
   "source": [
    "using Arpack\n",
    "\n",
    "λ, v = eigs(S, M, which=:SM, nev=6);"
   ],
   "metadata": {},
   "execution_count": null
  },
  {
   "outputs": [],
   "cell_type": "markdown",
   "source": [
    "We upsample the eigenfunctions and then cluster."
   ],
   "metadata": {}
  },
  {
   "outputs": [],
   "cell_type": "code",
   "source": [
    "using Clustering\n",
    "\n",
    "ctx2, _ = regularTriangularGrid((200, 120), LL, UR)\n",
    "v_upsampled = sample_to(v, ctx, ctx2, bdata=bdata)\n",
    "\n",
    "function iterated_kmeans(numiterations, args...)\n",
    "    best = kmeans(args...)\n",
    "    for i in 1:(numiterations - 1)\n",
    "        cur = kmeans(args...)\n",
    "        if cur.totalcost < best.totalcost\n",
    "            best = cur\n",
    "        end\n",
    "    end\n",
    "    return best\n",
    "end\n",
    "\n",
    "n_partition = 4\n",
    "res = iterated_kmeans(20, permutedims(v_upsampled[:,1:(n_partition-1)]), n_partition)\n",
    "u = kmeansresult2LCS(res)\n",
    "u_combined = sum([u[:,i] * i for i in 1:n_partition])\n",
    "plot_u(ctx2, u_combined, 200, 200;\n",
    "    color=:viridis, colorbar=:none, title=\"$n_partition-partition of Ocean Flow\")\n",
    "# *This notebook was generated using [Literate.jl](https://github.com/fredrikekre/Literate.jl).*"
   ],
   "metadata": {},
   "execution_count": null
  }
 ],
 "nbformat_minor": 3,
 "metadata": {
  "language_info": {
   "file_extension": ".jl",
   "mimetype": "application/julia",
   "name": "julia",
   "version": "1.0.2"
  },
  "kernelspec": {
   "name": "julia-1.0",
   "display_name": "Julia 1.0.2",
   "language": "julia"
  }
 },
 "nbformat": 4
}
