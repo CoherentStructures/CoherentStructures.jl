{
 "cells": [
  {
   "cell_type": "markdown",
   "source": [
    "# Geostrophic ocean flow\n",
    "\n",
    "For a more realistic application, we consider an unsteady ocean surface velocity\n",
    "data set obtained from satellite altimetry measurements produced by SSALTO/DUACS\n",
    "and distributed by AVISO. The particular space-time window has been used several\n",
    "times in the literature."
   ],
   "metadata": {}
  },
  {
   "cell_type": "markdown",
   "source": [
    "Below is a video showing advection of the initial 90-day DBS field for 90 days."
   ],
   "metadata": {}
  },
  {
   "cell_type": "markdown",
   "source": [
    "<video controls=\"\" height=\"100%\" width=\"100%\">\n",
    " <source src=\"https://raw.githubusercontent.com/natschil/misc/master/videos/ocean_flow.mp4\" type=\"video/mp4\" />\n",
    "Your browser does not support the video tag.\n",
    "</video>"
   ],
   "metadata": {}
  },
  {
   "cell_type": "markdown",
   "source": [
    "## Geodesic vortices"
   ],
   "metadata": {}
  },
  {
   "cell_type": "markdown",
   "source": [
    "Here, we demonstrate how to detect material barriers to diffusive transport."
   ],
   "metadata": {}
  },
  {
   "outputs": [],
   "cell_type": "code",
   "source": [
    "using Distributed\n",
    "nprocs() == 1 && addprocs()\n",
    "\n",
    "@everywhere using CoherentStructures, OrdinaryDiffEq, StaticArrays"
   ],
   "metadata": {},
   "execution_count": null
  },
  {
   "cell_type": "markdown",
   "source": [
    "Next, we load and interpolate the velocity data sets. Loading the data sets defines\n",
    "`Lon`, `Lat`, `Time`, `UT`, `VT`."
   ],
   "metadata": {}
  },
  {
   "outputs": [],
   "cell_type": "code",
   "source": [
    "using JLD2\n",
    "JLD2.@load(\"Ocean_geostrophic_velocity.jld2\")\n",
    "VI = interpolateVF(Lon, Lat, Time, UT, VT)"
   ],
   "metadata": {},
   "execution_count": null
  },
  {
   "cell_type": "markdown",
   "source": [
    "Now, we set up the computational problem."
   ],
   "metadata": {}
  },
  {
   "outputs": [],
   "cell_type": "code",
   "source": [
    "using AxisArrays\n",
    "q = 91\n",
    "t_initial = minimum(Time)\n",
    "t_final = t_initial + 90\n",
    "tspan = range(t_initial, stop=t_final, length=q)\n",
    "xmin, xmax, ymin, ymax = -4.0, 7.5, -37.0, -28.0\n",
    "nx = 300\n",
    "ny = floor(Int, (ymax - ymin) / (xmax - xmin) * nx)\n",
    "xspan = range(xmin, stop=xmax, length=nx)\n",
    "yspan = range(ymin, stop=ymax, length=ny)\n",
    "P = AxisArray(SVector{2}.(xspan, yspan'), xspan, yspan)\n",
    "δ = 1.e-5\n",
    "mCG_tensor = let tspan=tspan, δ=δ, p=VI\n",
    "    u -> av_weighted_CG_tensor(interp_rhs, u, tspan, δ;\n",
    "        p=p, tolerance=1e-6, solver=Tsit5())\n",
    "end"
   ],
   "metadata": {},
   "execution_count": null
  },
  {
   "cell_type": "markdown",
   "source": [
    "Next, we compute the averaged weighted Cauchy-Green tensor field and extract\n",
    "elliptic LCSs."
   ],
   "metadata": {}
  },
  {
   "outputs": [],
   "cell_type": "code",
   "source": [
    "C̅ = pmap(mCG_tensor, P; batch_size=ceil(Int, length(P)/nprocs()^2))\n",
    "p = LCSParameters(2.5)\n",
    "vortices, singularities = ellipticLCS(C̅, p)"
   ],
   "metadata": {},
   "execution_count": null
  },
  {
   "cell_type": "markdown",
   "source": [
    "Finally, the result is visualized as follows."
   ],
   "metadata": {}
  },
  {
   "outputs": [],
   "cell_type": "code",
   "source": [
    "using Plots\n",
    "trace = tensor_invariants(C̅)[5]\n",
    "fig = plot_vortices(vortices, singularities, (xmin, ymin), (xmax, ymax);\n",
    "    bg=trace, title=\"DBS field and transport barriers\", showlabel=true)\n",
    "Plots.plot(fig)"
   ],
   "metadata": {},
   "execution_count": null
  },
  {
   "cell_type": "markdown",
   "source": [
    "## Objective Eulerian coherent structures (OECS)"
   ],
   "metadata": {}
  },
  {
   "cell_type": "markdown",
   "source": [
    "With only minor modifications, we are also able to compute OECSs. We start by\n",
    "loading some packages and define the rate-of-strain tensor function."
   ],
   "metadata": {}
  },
  {
   "outputs": [],
   "cell_type": "code",
   "source": [
    "using Interpolations, Tensors\n",
    "\n",
    "V = scale(interpolate(SVector{2}.(UT[:,:,1], VT[:,:,1]), BSpline(Quadratic(Free(OnGrid())))), Lon, Lat)\n",
    "\n",
    "rate_of_strain_tensor(xin) = let V=V\n",
    "    x, y = xin\n",
    "    grad = Interpolations.gradient(V, x, y)\n",
    "    df =  Tensor{2,2}((grad[1][1], grad[1][2], grad[2][1], grad[2][2]))\n",
    "    return symmetric(df)\n",
    "end"
   ],
   "metadata": {},
   "execution_count": null
  },
  {
   "cell_type": "markdown",
   "source": [
    "To make life more exciting, we choose a larger domain."
   ],
   "metadata": {}
  },
  {
   "outputs": [],
   "cell_type": "code",
   "source": [
    "xmin, xmax, ymin, ymax = -12.0, 7.0, -38.1, -22.0\n",
    "nx = 950\n",
    "ny = floor(Int, (ymax - ymin) / (xmax - xmin) * nx)\n",
    "xspan = range(xmin, stop=xmax, length=nx)\n",
    "yspan = range(ymin, stop=ymax, length=ny)\n",
    "P = AxisArray(SVector{2}.(xspan, yspan'), xspan, yspan)"
   ],
   "metadata": {},
   "execution_count": null
  },
  {
   "cell_type": "markdown",
   "source": [
    "Next, we evaluate the rate-of-strain tensor on the grid and compute OECSs.\n",
    "As there tend to be many 3 wedge + trisector-type singularity combinations\n",
    "with OECSs, we enable the `combine_31` heuristic."
   ],
   "metadata": {}
  },
  {
   "outputs": [],
   "cell_type": "code",
   "source": [
    "S = map(rate_of_strain_tensor, P)\n",
    "p = LCSParameters(boxradius=2.5, pmin=-1, pmax=1, merge_heuristics=[combine_20, combine_31])\n",
    "vortices, singularities = ellipticLCS(S, p, outermost=true)"
   ],
   "metadata": {},
   "execution_count": null
  },
  {
   "cell_type": "markdown",
   "source": [
    "Finally, the result is visualized as follows, white are elliptic singularities, blue are trisectors and orange are wedges"
   ],
   "metadata": {}
  },
  {
   "outputs": [],
   "cell_type": "code",
   "source": [
    "λ₁ = tensor_invariants(S)[1]\n",
    "fig = plot_vortices(vortices, singularities, (xmin, ymin), (xmax, ymax);\n",
    "    bg=λ₁, logBg=false, title=\"Minor rate-of-strain field and OECSs\")\n",
    "Plots.plot(fig)"
   ],
   "metadata": {},
   "execution_count": null
  },
  {
   "cell_type": "markdown",
   "source": [
    "## FEM-based methods"
   ],
   "metadata": {}
  },
  {
   "cell_type": "markdown",
   "source": [
    "Here we showcase how the adaptive TO method can be used to calculate coherent sets.\n",
    "\n",
    "First we setup the problem."
   ],
   "metadata": {}
  },
  {
   "outputs": [],
   "cell_type": "code",
   "source": [
    "using CoherentStructures\n",
    "import JLD2, OrdinaryDiffEq, Plots\n",
    "\n",
    "JLD2.@load(\"Ocean_geostrophic_velocity.jld2\")\n",
    "\n",
    "UV = interpolateVF(Lon, Lat, Time, UT, VT)"
   ],
   "metadata": {},
   "execution_count": null
  },
  {
   "cell_type": "markdown",
   "source": [
    "Next, we define a flow function from it."
   ],
   "metadata": {}
  },
  {
   "outputs": [],
   "cell_type": "code",
   "source": [
    "t_initial = minimum(Time)\n",
    "t_final = t_initial + 90\n",
    "times = [t_initial, t_final]\n",
    "flow_map = u0 -> flow(interp_rhs, u0, times;\n",
    "    p=UV, tolerance=1e-5, solver=OrdinaryDiffEq.BS5())[end]"
   ],
   "metadata": {},
   "execution_count": null
  },
  {
   "cell_type": "markdown",
   "source": [
    "Next, we set up the domain. We want to use zero Dirichlet boundary conditions here."
   ],
   "metadata": {}
  },
  {
   "outputs": [],
   "cell_type": "code",
   "source": [
    "LL = (-4.0, -34.0)\n",
    "UR = (6.0, -28.0)\n",
    "ctx, _  = regularTriangularGrid((150, 90), LL, UR)\n",
    "bdata = getHomDBCS(ctx, \"all\");"
   ],
   "metadata": {},
   "execution_count": null
  },
  {
   "cell_type": "markdown",
   "source": [
    "For the TO method, we seek generalized eigenpairs involving the bilinear form\n",
    "\n",
    "$$\n",
    "a_h(u,v) = \\frac{1}{2} \\left(a_0(u,v) + a_1(I_h u, I_h v) \\right).\n",
    "$$\n",
    "\n",
    "Here, $a_0$ is the weak form of the Laplacian on the initial domain, and $a_1$\n",
    "is the weak form of the Laplacian on the final domain. The operator $I_h$ is an\n",
    "interpolation operator onto the space of test functions on the final domain.\n",
    "\n",
    "For the adaptive TO method, we use pointwise nodal interpolation (i.e. collocation)\n",
    "and the mesh on the final domain is obtained by doing a Delaunay triangulation\n",
    "on the images of the nodal points of the initial domain. This results in the\n",
    "representation matrix of $I_h$ being the identity, so in matrix form we get:\n",
    "\n",
    "$$\n",
    "S = 0.5(S_0 + S_1)\n",
    "$$\n",
    "\n",
    "where $S_0$ is the stiffness matrix for the triangulation at initial time, and\n",
    "$S_1$ is the stiffness matrix for the triangulation at final time."
   ],
   "metadata": {}
  },
  {
   "outputs": [],
   "cell_type": "code",
   "source": [
    "M = assembleMassMatrix(ctx, bdata=bdata)\n",
    "S0 = assembleStiffnessMatrix(ctx)\n",
    "S1 = adaptiveTOCollocationStiffnessMatrix(ctx, flow_map)"
   ],
   "metadata": {},
   "execution_count": null
  },
  {
   "cell_type": "markdown",
   "source": [
    "Averaging matrices and applying boundary conditions yields"
   ],
   "metadata": {}
  },
  {
   "outputs": [],
   "cell_type": "code",
   "source": [
    "S = applyBCS(ctx, 0.5(S0 + S1), bdata);"
   ],
   "metadata": {},
   "execution_count": null
  },
  {
   "cell_type": "markdown",
   "source": [
    "We can now solve the eigenproblem."
   ],
   "metadata": {}
  },
  {
   "outputs": [],
   "cell_type": "code",
   "source": [
    "using Arpack\n",
    "\n",
    "λ, v = eigs(S, M, which=:SM, nev=6);"
   ],
   "metadata": {},
   "execution_count": null
  },
  {
   "cell_type": "markdown",
   "source": [
    "We upsample the eigenfunctions and then cluster."
   ],
   "metadata": {}
  },
  {
   "outputs": [],
   "cell_type": "code",
   "source": [
    "using Clustering\n",
    "\n",
    "ctx2, _ = regularTriangularGrid((200, 120), LL, UR)\n",
    "v_upsampled = sample_to(v, ctx, ctx2, bdata=bdata)\n",
    "\n",
    "function iterated_kmeans(numiterations, args...)\n",
    "    best = kmeans(args...)\n",
    "    for i in 1:(numiterations - 1)\n",
    "        cur = kmeans(args...)\n",
    "        if cur.totalcost < best.totalcost\n",
    "            best = cur\n",
    "        end\n",
    "    end\n",
    "    return best\n",
    "end\n",
    "\n",
    "n_partition = 4\n",
    "res = iterated_kmeans(20, permutedims(v_upsampled[:,1:(n_partition-1)]), n_partition)\n",
    "u = kmeansresult2LCS(res)\n",
    "u_combined = sum([u[:,i] * i for i in 1:n_partition])\n",
    "fig = plot_u(ctx2, u_combined, 200, 200;\n",
    "    color=:viridis, colorbar=:none, title=\"$n_partition-partition of Ocean Flow\")\n",
    "\n",
    "\n",
    "Plots.plot(fig)"
   ],
   "metadata": {},
   "execution_count": null
  },
  {
   "cell_type": "markdown",
   "source": [
    "---\n",
    "\n",
    "*This notebook was generated using [Literate.jl](https://github.com/fredrikekre/Literate.jl).*"
   ],
   "metadata": {}
  }
 ],
 "nbformat_minor": 3,
 "metadata": {
  "language_info": {
   "file_extension": ".jl",
   "mimetype": "application/julia",
   "name": "julia",
   "version": "1.4.1"
  },
  "kernelspec": {
   "name": "julia-1.4",
   "display_name": "Julia 1.4.1",
   "language": "julia"
  }
 },
 "nbformat": 4
}
