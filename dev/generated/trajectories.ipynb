{
 "cells": [
  {
   "outputs": [],
   "cell_type": "markdown",
   "source": [
    "# Working with trajectories"
   ],
   "metadata": {}
  },
  {
   "outputs": [],
   "cell_type": "markdown",
   "source": [
    "Some of the methods in `CoherentStructures.jl` currently work with velocity fields only.\n",
    "However, there are also some methods that work on trajectories directly. These include\n",
    "the graph Laplacian based methods and the Transfer-Operator based methods for approximating the\n",
    "dynamic Laplacian."
   ],
   "metadata": {}
  },
  {
   "outputs": [],
   "cell_type": "markdown",
   "source": [
    "We show here how to use some of these methods."
   ],
   "metadata": {}
  },
  {
   "outputs": [],
   "cell_type": "markdown",
   "source": [
    "We first generate some trajectories on a set of `n' random points for the double gyre."
   ],
   "metadata": {}
  },
  {
   "outputs": [],
   "cell_type": "code",
   "source": [
    "using CoherentStructures,Tensors\n",
    "\n",
    "n = 500\n",
    "tspan=range(0,stop=1.0, length=20)\n",
    "initial_points = [Vec{2}(rand(2)) for i in 1:n]\n",
    "trajectories = [\n",
    "    flow(rot_double_gyre, initial_points[i],tspan) for i in 1:n\n",
    "    ]\n",
    "# ## FEM adaptive TO method\n",
    "# Generate a triangulation\n",
    "# If this call fails or does not return the initial points may not be unique.\n",
    "ctx, _ = irregularDelaunayGrid(initial_points)\n",
    "\n",
    "#Generate stiffness and mass matrices, solve eigenproblem."
   ],
   "metadata": {},
   "execution_count": null
  },
  {
   "outputs": [],
   "cell_type": "markdown",
   "source": [
    "If this call fails or does not return the initial points may not be unique."
   ],
   "metadata": {}
  },
  {
   "outputs": [],
   "cell_type": "code",
   "source": [
    "S = adaptiveTOCollocationStiffnessMatrix(ctx,(i,ts) -> trajectories[i], tspan; flow_map_mode=1\n",
    "    )\n",
    "M = assembleMassMatrix(ctx)\n",
    "\n",
    "using Arpack\n",
    "λ, V = eigs(S,M, which=:SM,nev=6)"
   ],
   "metadata": {},
   "execution_count": null
  },
  {
   "outputs": [],
   "cell_type": "markdown",
   "source": [
    "We can plot the spectrum obtained."
   ],
   "metadata": {}
  },
  {
   "outputs": [],
   "cell_type": "code",
   "source": [
    "import Plots\n",
    "plot_real_spectrum(λ)"
   ],
   "metadata": {},
   "execution_count": null
  },
  {
   "outputs": [],
   "cell_type": "markdown",
   "source": [
    "K-means clustering yields the coherent vortices."
   ],
   "metadata": {}
  },
  {
   "outputs": [],
   "cell_type": "code",
   "source": [
    "using Clustering\n",
    "function iterated_kmeans(numiterations, args...)\n",
    "    best = kmeans(args...)\n",
    "    for i in 1:(numiterations - 1)\n",
    "        cur = kmeans(args...)\n",
    "        if cur.totalcost < best.totalcost\n",
    "            best = cur\n",
    "        end\n",
    "    end\n",
    "    return best\n",
    "end\n",
    "\n",
    "n_partition = 3\n",
    "res = iterated_kmeans(20, permutedims(V[:,2:n_partition]), n_partition)\n",
    "u = kmeansresult2LCS(res)\n",
    "u_combined = sum([u[:,i] * i for i in 1:n_partition])\n",
    "\n",
    "#We plot the result. The result looks \"messy\" due to the"
   ],
   "metadata": {},
   "execution_count": null
  },
  {
   "outputs": [],
   "cell_type": "markdown",
   "source": [
    "fact that we used quite few trajectories"
   ],
   "metadata": {}
  },
  {
   "outputs": [],
   "cell_type": "code",
   "source": [
    "fig = plot_u(ctx, u_combined, 400, 400;\n",
    "    color=:viridis, colorbar=:none, title=\"$n_partition-partition of double gyre\")\n",
    "\n",
    "Plots.plot(fig)"
   ],
   "metadata": {},
   "execution_count": null
  },
  {
   "outputs": [],
   "cell_type": "markdown",
   "source": [
    "*This notebook was generated using [Literate.jl](https://github.com/fredrikekre/Literate.jl).*"
   ],
   "metadata": {}
  }
 ],
 "nbformat_minor": 3,
 "metadata": {
  "language_info": {
   "file_extension": ".jl",
   "mimetype": "application/julia",
   "name": "julia",
   "version": "1.0.4"
  },
  "kernelspec": {
   "name": "julia-1.0",
   "display_name": "Julia 1.0.4",
   "language": "julia"
  }
 },
 "nbformat": 4
}
