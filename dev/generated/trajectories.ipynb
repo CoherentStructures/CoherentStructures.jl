{
 "cells": [
  {
   "outputs": [],
   "cell_type": "markdown",
   "source": [
    "# Working with trajectories"
   ],
   "metadata": {}
  },
  {
   "outputs": [],
   "cell_type": "markdown",
   "source": [
    "Some of the methods in `CoherentStructures.jl` currently work with velocity fields only.\n",
    "However, there are also some methods that work on trajectories directly. These include\n",
    "the graph Laplacian based methods and the Transfer-Operator based methods for approximating the\n",
    "dynamic Laplacian."
   ],
   "metadata": {}
  },
  {
   "outputs": [],
   "cell_type": "markdown",
   "source": [
    "We show here how to use some of these methods."
   ],
   "metadata": {}
  },
  {
   "outputs": [],
   "cell_type": "markdown",
   "source": [
    "## FEM adaptive TO method"
   ],
   "metadata": {}
  },
  {
   "outputs": [],
   "cell_type": "markdown",
   "source": [
    "We first generate some trajectories on a set of `n` random points for the double gyre."
   ],
   "metadata": {}
  },
  {
   "outputs": [],
   "cell_type": "code",
   "source": [
    "using CoherentStructures, Tensors\n",
    "\n",
    "n = 500\n",
    "tspan = range(0, stop=1.0, length=20)\n",
    "initial_points = [Vec{2}(rand(2)) for i in 1:n]\n",
    "trajectories = [flow(rot_double_gyre, initial_points[i], tspan) for i in 1:n]"
   ],
   "metadata": {},
   "execution_count": null
  },
  {
   "outputs": [],
   "cell_type": "markdown",
   "source": [
    "Generate a triangulation\n",
    "If this call fails or does not return, the initial points may not be unique."
   ],
   "metadata": {}
  },
  {
   "outputs": [],
   "cell_type": "code",
   "source": [
    "ctx, _ = irregularDelaunayGrid(initial_points)"
   ],
   "metadata": {},
   "execution_count": null
  },
  {
   "outputs": [],
   "cell_type": "markdown",
   "source": [
    "Generate stiffness and mass matrices, solve eigenproblem.\n",
    "If this call fails or does not return the initial points may not be unique."
   ],
   "metadata": {}
  },
  {
   "outputs": [],
   "cell_type": "code",
   "source": [
    "S = adaptiveTOCollocationStiffnessMatrix(ctx, (i,ts) -> trajectories[i], tspan; flow_map_mode=1)\n",
    "M = assembleMassMatrix(ctx)\n",
    "\n",
    "using Arpack\n",
    "λ, V = eigs(S, M; which=:SM, nev=6)"
   ],
   "metadata": {},
   "execution_count": null
  },
  {
   "outputs": [],
   "cell_type": "markdown",
   "source": [
    "We can plot the spectrum obtained."
   ],
   "metadata": {}
  },
  {
   "outputs": [],
   "cell_type": "code",
   "source": [
    "import Plots\n",
    "plot_real_spectrum(λ)"
   ],
   "metadata": {},
   "execution_count": null
  },
  {
   "outputs": [],
   "cell_type": "markdown",
   "source": [
    "K-means clustering yields the coherent vortices."
   ],
   "metadata": {}
  },
  {
   "outputs": [],
   "cell_type": "code",
   "source": [
    "using Clustering\n",
    "function iterated_kmeans(numiterations, args...)\n",
    "    best = kmeans(args...)\n",
    "    for i in 1:(numiterations - 1)\n",
    "        cur = kmeans(args...)\n",
    "        if cur.totalcost < best.totalcost\n",
    "            best = cur\n",
    "        end\n",
    "    end\n",
    "    return best\n",
    "end\n",
    "\n",
    "n_partition = 3\n",
    "res = iterated_kmeans(20, permutedims(V[:,2:n_partition]), n_partition)\n",
    "u = kmeansresult2LCS(res)\n",
    "u_combined = sum([u[:,i] * i for i in 1:n_partition])"
   ],
   "metadata": {},
   "execution_count": null
  },
  {
   "outputs": [],
   "cell_type": "markdown",
   "source": [
    "We plot the result. The result looks \"messy\" due to the fact that we used\n",
    "only few trajectories."
   ],
   "metadata": {}
  },
  {
   "outputs": [],
   "cell_type": "code",
   "source": [
    "fig = plot_u(ctx, u_combined, 400, 400;\n",
    "    color=:viridis, colorbar=:none, title=\"$n_partition-partition of double gyre\")\n",
    "\n",
    "Plots.plot(fig)"
   ],
   "metadata": {},
   "execution_count": null
  },
  {
   "outputs": [],
   "cell_type": "markdown",
   "source": [
    "## Graph Laplace based methods"
   ],
   "metadata": {}
  },
  {
   "outputs": [],
   "cell_type": "markdown",
   "source": [
    "Optionally add processes to run things in parallel"
   ],
   "metadata": {}
  },
  {
   "outputs": [],
   "cell_type": "code",
   "source": [
    "using Distributed\n",
    "(nprocs() == 1) && addprocs()"
   ],
   "metadata": {},
   "execution_count": null
  },
  {
   "outputs": [],
   "cell_type": "markdown",
   "source": [
    "We first load some dependencies and our package"
   ],
   "metadata": {}
  },
  {
   "outputs": [],
   "cell_type": "code",
   "source": [
    "@everywhere using CoherentStructures\n",
    "using LinearAlgebra, LinearMaps, StaticArrays, Distances, Plots"
   ],
   "metadata": {},
   "execution_count": null
  },
  {
   "outputs": [],
   "cell_type": "markdown",
   "source": [
    "Setup the problem, and get some trajectories\n",
    "We use a regular grid at initial time to make plotting easier.\n",
    "We use relatively few trajectories, as some methods take very long with many trajectories"
   ],
   "metadata": {}
  },
  {
   "outputs": [],
   "cell_type": "code",
   "source": [
    "tspan = range(10*24*3600, stop=30*24*3600, length=21)\n",
    "m = 100; n = 31; N = m*n\n",
    "x = range(0.0, stop=6.371π, length=m)\n",
    "y = range(-3.0, stop=3.0, length=n)\n",
    "f = u -> flow(bickleyJet, u, tspan,  tolerance=1e-6)\n",
    "p0 = vec(SVector{2}.(x, y'))\n",
    "trajectories = pmap(f, p0; batch_size=m)"
   ],
   "metadata": {},
   "execution_count": null
  },
  {
   "outputs": [],
   "cell_type": "markdown",
   "source": [
    "The problem is periodic in x, but not y"
   ],
   "metadata": {}
  },
  {
   "outputs": [],
   "cell_type": "code",
   "source": [
    "per = [6.371π, Inf]\n",
    "\n",
    "#We calculate 6 diffusion coordinates for each example\n",
    "n_coords=6"
   ],
   "metadata": {},
   "execution_count": null
  },
  {
   "outputs": [],
   "cell_type": "markdown",
   "source": [
    "We now illustrate some of the different Graph-Laplace based methods"
   ],
   "metadata": {}
  },
  {
   "outputs": [],
   "cell_type": "markdown",
   "source": [
    "### time coupled diffusion coordinates  (Marshall & Hirn, 2018)\n",
    "Note that the results would look much better here if we had used more trajectories!"
   ],
   "metadata": {}
  },
  {
   "outputs": [],
   "cell_type": "code",
   "source": [
    "ε = 1e-3\n",
    "kernel = gaussian(ε)\n",
    "P = sparse_diff_op_family(trajectories, Neighborhood(gaussiancutoff(ε)), kernel;\n",
    "                metric=PEuclidean(per))\n",
    "λ, Ψ = diffusion_coordinates(P, n_coords)"
   ],
   "metadata": {},
   "execution_count": null
  },
  {
   "outputs": [],
   "cell_type": "markdown",
   "source": [
    "Plot some resulting eigenvectors"
   ],
   "metadata": {}
  },
  {
   "outputs": [],
   "cell_type": "code",
   "source": [
    "field = permutedims(reshape(Ψ[:,2], m, n))\n",
    "fig = Plots.heatmap(x, y, field, aspect_ratio=1,color=:viridis)\n",
    "Plots.plot(fig)\n",
    "field = permutedims(reshape(Ψ[:,3], m, n))\n",
    "fig = Plots.heatmap(x, y, field, aspect_ratio=1,color=:viridis)\n",
    "Plots.plot(fig)"
   ],
   "metadata": {},
   "execution_count": null
  },
  {
   "outputs": [],
   "cell_type": "markdown",
   "source": [
    "### L_1 time averaging with gaussian kernel Hadjighasem et al, 2016"
   ],
   "metadata": {}
  },
  {
   "outputs": [],
   "cell_type": "code",
   "source": [
    "ε = 5e-1\n",
    "k = 200\n",
    "dist = STmetric(PEuclidean(per), 1)\n",
    "kernel = gaussian(ε)\n",
    "P = sparse_diff_op(trajectories, Neighborhood(gaussiancutoff(ε)), kernel; metric=dist\n",
    "    )\n",
    "λ, Ψ = diffusion_coordinates(P, n_coords)\n",
    "\n",
    "field = permutedims(reshape(Ψ[:,2], m, n))\n",
    "fig = Plots.heatmap(x, y, field, aspect_ratio=1,color=:viridis)\n",
    "Plots.plot(fig)\n",
    "field = permutedims(reshape(Ψ[:,3], m, n))\n",
    "fig = Plots.heatmap(x, y, field, aspect_ratio=1,color=:viridis)\n",
    "Plots.plot(fig)"
   ],
   "metadata": {},
   "execution_count": null
  },
  {
   "outputs": [],
   "cell_type": "markdown",
   "source": [
    "### Use of SEBA to extract features\n",
    "We could have also used \"SEBA\" from Froyland, Rock & Sakellariou 2019"
   ],
   "metadata": {}
  },
  {
   "outputs": [],
   "cell_type": "code",
   "source": [
    "Ψ2 = SEBA(Ψ)"
   ],
   "metadata": {},
   "execution_count": null
  },
  {
   "outputs": [],
   "cell_type": "markdown",
   "source": [
    "We plot two of the SEBA features extracted"
   ],
   "metadata": {}
  },
  {
   "outputs": [],
   "cell_type": "code",
   "source": [
    "field = permutedims(reshape(Ψ2[:,1], m, n))\n",
    "fig = Plots.heatmap(x, y, field, aspect_ratio=1,color=:viridis)\n",
    "Plots.plot(fig)\n",
    "field = permutedims(reshape(Ψ2[:,2], m, n))\n",
    "fig = Plots.heatmap(x, y, field, aspect_ratio=1,color=:viridis)\n",
    "Plots.plot(fig)"
   ],
   "metadata": {},
   "execution_count": null
  },
  {
   "outputs": [],
   "cell_type": "markdown",
   "source": [
    "### space-time diffusion maps,  Banisch & Koltai, 2017\n",
    "Again here the results would look better with more trajectories"
   ],
   "metadata": {}
  },
  {
   "outputs": [],
   "cell_type": "code",
   "source": [
    "using Statistics\n",
    "ε = 1e-3\n",
    "kernel = gaussian(ε)\n",
    "using CoherentStructures\n",
    "P = sparse_diff_op_family(trajectories, Neighborhood(gaussiancutoff(ε)), kernel, mean; metric=PEuclidean(per)\n",
    "    );\n",
    "n_coords=6\n",
    "@time λ, Ψ = diffusion_coordinates(P, n_coords)\n",
    "\n",
    "field = permutedims(reshape(Ψ[:,2], m, n))\n",
    "fig = Plots.heatmap(x, y, field, aspect_ratio=1,color=:viridis)\n",
    "Plots.plot(fig)\n",
    "field = permutedims(reshape(Ψ[:,3], m, n))\n",
    "fig = Plots.heatmap(x, y, field, aspect_ratio=1,color=:viridis)\n",
    "Plots.plot(fig)"
   ],
   "metadata": {},
   "execution_count": null
  },
  {
   "outputs": [],
   "cell_type": "markdown",
   "source": [
    "### L_-Inf time averaging, Padberg-Gehle & Schneide, 2018"
   ],
   "metadata": {}
  },
  {
   "outputs": [],
   "cell_type": "code",
   "source": [
    "ε = 0.2\n",
    "P = sparse_diff_op_family(trajectories, Neighborhood(ε), Base.one, P -> max.(P...); α=0, metric=PEuclidean(per)\n",
    "    );\n",
    "λ, Ψ = diffusion_coordinates(P, n_coords)\n",
    "\n",
    "field = permutedims(reshape(Ψ[:,2], m, n))\n",
    "fig = Plots.heatmap(x, y, field, aspect_ratio=1,color=:viridis)\n",
    "Plots.plot(fig)\n",
    "field = permutedims(reshape(Ψ[:,3], m, n))\n",
    "fig = Plots.heatmap(x, y, field, aspect_ratio=1,color=:viridis)\n",
    "Plots.plot(fig)"
   ],
   "metadata": {},
   "execution_count": null
  },
  {
   "outputs": [],
   "cell_type": "markdown",
   "source": [
    "*This notebook was generated using [Literate.jl](https://github.com/fredrikekre/Literate.jl).*"
   ],
   "metadata": {}
  }
 ],
 "nbformat_minor": 3,
 "metadata": {
  "language_info": {
   "file_extension": ".jl",
   "mimetype": "application/julia",
   "name": "julia",
   "version": "1.0.4"
  },
  "kernelspec": {
   "name": "julia-1.0",
   "display_name": "Julia 1.0.4",
   "language": "julia"
  }
 },
 "nbformat": 4
}
