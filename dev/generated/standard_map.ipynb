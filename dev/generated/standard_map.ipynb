{
 "cells": [
  {
   "outputs": [],
   "cell_type": "markdown",
   "source": [
    "# The standard map\n",
    "\n",
    "The standard map\n",
    "\\begin{equation}\n",
    "f(x,y) = (x+y+a\\sin(x),y+a\\sin(x))\n",
    "\\end{equation}\n",
    "is an area-preserving map on the 2-torus $[0,2\\pi]^2$ resulting from a symplectic\n",
    "time-discretization of the planar pendulum.  For $a = 0.971635$, its phase space\n",
    "shows the characteristic mixture of regular (periodic or quasi-periodic) and\n",
    "chaotic motion.  Here, we repeat the experiment in\n",
    "[Froyland & Junge (2015)](https://arxiv.org/abs/1505.05056) and compute coherent structures.\n",
    "\n",
    "We first visualize the phase space by plotting 500 iterates of 50 random seed points."
   ],
   "metadata": {}
  },
  {
   "outputs": [],
   "cell_type": "code",
   "source": [
    "using Random\n",
    "\n",
    "a = 0.971635\n",
    "f(a,x) = (mod(x[1] + x[2] + a*sin(x[1]), 2π),\n",
    "          mod(x[2] + a*sin(x[1]), 2π))\n",
    "\n",
    "X = []\n",
    "for i in 1:50\n",
    "    Random.seed!(i)\n",
    "    x = 2π*rand(2)\n",
    "    for i in 1:500\n",
    "        x = f(a,x)\n",
    "        push!(X,x)\n",
    "    end\n",
    "end\n",
    "\n",
    "using Plots\n",
    "gr(aspect_ratio=1, legend=:none)\n",
    "scatter([x[1] for x in X], [x[2] for x in X], markersize=1)"
   ],
   "metadata": {},
   "execution_count": null
  },
  {
   "outputs": [],
   "cell_type": "markdown",
   "source": [
    "Approximating the Dynamic Laplacian by FEM methods is straightforward:"
   ],
   "metadata": {}
  },
  {
   "outputs": [],
   "cell_type": "code",
   "source": [
    "using Arpack, CoherentStructures, Tensors\n",
    "\n",
    "Df(a,x) = Tensor{2,2}((1.0+a*cos(x[1]), a*cos(x[1]), 1.0, 1.0))\n",
    "\n",
    "n, ll, ur = 100, [0.0,0.0], [2π,2π]               # grid size, domain corners\n",
    "ctx, _ = regularTriangularGrid((n,n), ll, ur)\n",
    "pred(x,y) = peuclidean(x[1], y[1], 2π) < 1e-9 &&\n",
    "            peuclidean(x[2], y[2], 2π) < 1e-9\n",
    "bd = boundaryData(ctx, pred)                      # periodic boundary\n",
    "\n",
    "I = one(Tensor{2,2})                              # identity matrix\n",
    "Df2(x) = Df(a,f(a,x))⋅Df(a,x)                     # consider 2. iterate\n",
    "cg(x) = 0.5*(I + dott(inv(Df2(x))))               # avg. inv. Cauchy-Green tensor\n",
    "\n",
    "K = assembleStiffnessMatrix(ctx, cg, bdata=bd)\n",
    "M = assembleMassMatrix(ctx, bdata=bd)\n",
    "λ, v = eigs(K, M, which=:SM)\n",
    "\n",
    "using Printf\n",
    "title = [ @sprintf(\"\\\\lambda = %.3f\",λ[i]) for i = 1:4 ]\n",
    "p = [ plot_u(ctx, v[:,i], bdata=bd, title=title[i],\n",
    "             clim=(-0.25,0.25), cb=false) for i in 1:4 ]\n",
    "plot(p...)"
   ],
   "metadata": {},
   "execution_count": null
  },
  {
   "outputs": [],
   "cell_type": "markdown",
   "source": [
    "*This notebook was generated using [Literate.jl](https://github.com/fredrikekre/Literate.jl).*"
   ],
   "metadata": {}
  }
 ],
 "nbformat_minor": 3,
 "metadata": {
  "language_info": {
   "file_extension": ".jl",
   "mimetype": "application/julia",
   "name": "julia",
   "version": "1.0.2"
  },
  "kernelspec": {
   "name": "julia-1.0",
   "display_name": "Julia 1.0.2",
   "language": "julia"
  }
 },
 "nbformat": 4
}
